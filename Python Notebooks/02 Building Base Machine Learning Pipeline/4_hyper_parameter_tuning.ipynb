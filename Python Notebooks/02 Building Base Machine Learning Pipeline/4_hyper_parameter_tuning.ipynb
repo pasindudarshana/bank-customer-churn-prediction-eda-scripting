{
 "cells": [
  {
   "cell_type": "code",
   "execution_count": 1,
   "id": "015cf333",
   "metadata": {},
   "outputs": [],
   "source": [
    "import joblib\n",
    "import warnings\n",
    "import numpy as np\n",
    "import pandas as pd\n",
    "import seaborn as sns\n",
    "import matplotlib.pyplot as plt\n",
    "from sklearn.ensemble import RandomForestClassifier\n",
    "from sklearn.linear_model import LogisticRegression\n",
    "from sklearn.tree import DecisionTreeClassifier\n",
    "from sklearn.model_selection import(\n",
    "                                    StratifiedKFold,\n",
    "                                    cross_validate,\n",
    "                                    GridSearchCV\n",
    ")\n",
    "from sklearn.metrics import (\n",
    "                            accuracy_score,\n",
    "                            precision_score,\n",
    "                            confusion_matrix\n",
    ")"
   ]
  },
  {
   "cell_type": "markdown",
   "id": "a74f06ff",
   "metadata": {},
   "source": [
    "### 1. Load the data"
   ]
  },
  {
   "cell_type": "code",
   "execution_count": 2,
   "id": "b319017e",
   "metadata": {},
   "outputs": [],
   "source": [
    "X_train = np.load('artifacts/X_train.npz')['arr_0']\n",
    "Y_train = np.load('artifacts/y_train.npz')['arr_0']\n",
    "X_test = np.load('artifacts/X_test.npz')['arr_0']\n",
    "Y_test = np.load('artifacts/y_test.npz')['arr_0']"
   ]
  },
  {
   "cell_type": "markdown",
   "id": "a649d9cd",
   "metadata": {},
   "source": [
    "### 2. Define Multi Models\n"
   ]
  },
  {
   "cell_type": "code",
   "execution_count": 3,
   "id": "1f6380bf",
   "metadata": {},
   "outputs": [],
   "source": [
    "lr_param_grid = {\n",
    "                'max_iter' : [1000, 5000, 10000],\n",
    "}\n",
    "\n",
    "dt_param_grid = {\n",
    "                'max_depth' : [8, 12, 16, 20],\n",
    "                'criterion' : [\"gini\", \"entropy\", \"log_loss\"]\n",
    "}\n",
    "\n",
    "rf_param_grid = {\n",
    "                'n_estimators' : [50, 100, 150, 200],\n",
    "                'max_depth' : [8, 12, 16, 20],\n",
    "                'criterion' : [\"gini\", \"entropy\", \"log_loss\"]\n",
    "}\n",
    "\n",
    "param_grids = {\n",
    "            'Logistic Regression' : lr_param_grid,\n",
    "            'Decision Tree' : dt_param_grid,\n",
    "            'Random Forest' : rf_param_grid\n",
    "}"
   ]
  },
  {
   "cell_type": "markdown",
   "id": "429b108f",
   "metadata": {},
   "source": [
    "### 3. Define Multi Models"
   ]
  },
  {
   "cell_type": "code",
   "execution_count": 4,
   "id": "e04af62f",
   "metadata": {},
   "outputs": [],
   "source": [
    "models = {\n",
    "           \"Logistic Regression\" : LogisticRegression(),\n",
    "           \"Decision Tree\" : DecisionTreeClassifier(),\n",
    "           \"Random Forest\" : RandomForestClassifier()\n",
    "}\n"
   ]
  },
  {
   "cell_type": "markdown",
   "id": "d1584acb",
   "metadata": {},
   "source": [
    "### 4. Configure K-Fold CV"
   ]
  },
  {
   "cell_type": "code",
   "execution_count": 5,
   "id": "3f6d6510",
   "metadata": {},
   "outputs": [],
   "source": [
    "cv = StratifiedKFold(\n",
    "                    n_splits=6,\n",
    "                    random_state=42,\n",
    "                    shuffle=True\n",
    ")"
   ]
  },
  {
   "cell_type": "markdown",
   "id": "fcbd10a9",
   "metadata": {},
   "source": [
    "### 5. Multi Model Training"
   ]
  },
  {
   "cell_type": "code",
   "execution_count": 6,
   "id": "6cd172af",
   "metadata": {},
   "outputs": [
    {
     "name": "stdout",
     "output_type": "stream",
     "text": [
      "\n",
      "----Tuning Logistic Regression ----\n",
      "Fitting gridSearchCV for Logistic Regression\n",
      "Fitting 6 folds for each of 3 candidates, totalling 18 fits\n",
      "Logistic Regression gridSearchCV completed ...\n",
      "Best paramaters: {'max_iter': 1000}\n",
      "Best CV Score: 0.7318169755021501\n",
      "\n",
      "----Tuning Decision Tree ----\n",
      "Fitting gridSearchCV for Decision Tree\n",
      "Fitting 6 folds for each of 12 candidates, totalling 72 fits\n",
      "Decision Tree gridSearchCV completed ...\n",
      "Best paramaters: {'criterion': 'log_loss', 'max_depth': 20}\n",
      "Best CV Score: 0.8358588129518206\n",
      "\n",
      "----Tuning Random Forest ----\n",
      "Fitting gridSearchCV for Random Forest\n",
      "Fitting 6 folds for each of 48 candidates, totalling 288 fits\n",
      "Random Forest gridSearchCV completed ...\n",
      "Best paramaters: {'criterion': 'entropy', 'max_depth': 20, 'n_estimators': 100}\n",
      "Best CV Score: 0.8935184926885612\n"
     ]
    }
   ],
   "source": [
    "grid_search_results = {}\n",
    "for model_name, model in models.items():\n",
    "    print(f\"\\n----Tuning {model_name} ----\")\n",
    "\n",
    "    param_grid = param_grids[model_name]\n",
    "\n",
    "    grid_search = GridSearchCV(\n",
    "                                estimator=model,\n",
    "                                param_grid=param_grid,\n",
    "                                cv=cv, scoring='f1',\n",
    "                                verbose=1, return_train_score=False\n",
    "    )\n",
    "\n",
    "    print(f\"Fitting gridSearchCV for {model_name}\")\n",
    "\n",
    "    grid_search.fit(X_train, Y_train)\n",
    "\n",
    "    grid_search_results[model_name] = grid_search\n",
    "\n",
    "    print(f\"{model_name} gridSearchCV completed ...\")\n",
    "    print(f\"Best paramaters: {grid_search.best_params_}\")\n",
    "    print(f\"Best CV Score: {grid_search.best_score_}\")"
   ]
  },
  {
   "cell_type": "code",
   "execution_count": null,
   "id": "df2bd9e4",
   "metadata": {},
   "outputs": [],
   "source": []
  }
 ],
 "metadata": {
  "kernelspec": {
   "display_name": "Python 3",
   "language": "python",
   "name": "python3"
  },
  "language_info": {
   "codemirror_mode": {
    "name": "ipython",
    "version": 3
   },
   "file_extension": ".py",
   "mimetype": "text/x-python",
   "name": "python",
   "nbconvert_exporter": "python",
   "pygments_lexer": "ipython3",
   "version": "3.13.3"
  }
 },
 "nbformat": 4,
 "nbformat_minor": 5
}
